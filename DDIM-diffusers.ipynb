{
 "cells": [
  {
   "cell_type": "markdown",
   "id": "294a98c5",
   "metadata": {},
   "source": [
    "# DDIM -- diffusers\n",
    "前面的章节中已经介绍了 DDPM 的数学原理以及代码实现，接下来将带来 DDIM 相关的代码实验。"
   ]
  },
  {
   "cell_type": "code",
   "execution_count": null,
   "id": "9a2ad6c0",
   "metadata": {},
   "outputs": [],
   "source": [
    "import torch\n",
    "from diffusers import DDPMScheduler, DDIMScheduler, UNet2DModel\n",
    "\n",
    "device = \"cuda\"\n",
    "model_id = \"/mnt/d/Model_Data/pretrain_model/ddpm-cat\"\n",
    "\n",
    "model = UNet2DModel.from_pretrained(model_id).to(device).eval()\n",
    "ddpm = DDPMScheduler.from_pretrained(model_id)\n",
    "ddim = DDIMScheduler.from_config(ddpm.config)"
   ]
  },
  {
   "cell_type": "markdown",
   "id": "dec9c895",
   "metadata": {},
   "source": [
    "使用 DDPM 的可视化工具"
   ]
  },
  {
   "cell_type": "code",
   "execution_count": null,
   "id": "16acf64f",
   "metadata": {},
   "outputs": [],
   "source": [
    "def add_text_to_image(image_path, output_path, title, save=False):\n",
    "    from PIL import Image, ImageDraw, ImageFont\n",
    "    \n",
    "    image = Image.open(image_path)\n",
    "    draw = ImageDraw.Draw(image)\n",
    "    font = ImageFont.truetype(\"DejaVuSans-Bold.ttf\", 36)\n",
    "    text_position = (10,10)\n",
    "    draw.text(text_position, title, font=font, fill='white')\n",
    "    if save: \n",
    "        image.save(output_path)\n",
    "    return image\n",
    "\n",
    "def savefig(input, name):\n",
    "    from PIL import Image\n",
    "    image = (input / 2 + 0.5).clamp(0, 1).squeeze()\n",
    "    if len(image.shape)==3:\n",
    "        image = (image.permute(1, 2, 0) * 255).round().to(torch.uint8).cpu().numpy()\n",
    "    else:\n",
    "        image = (image * 255).round().to(torch.uint8).cpu().numpy()\n",
    "    image = Image.fromarray(image)\n",
    "    image.save(name)"
   ]
  },
  {
   "cell_type": "code",
   "execution_count": null,
   "id": "583f4ad2",
   "metadata": {},
   "outputs": [],
   "source": [
    "from tqdm import tqdm\n",
    "\n",
    "@torch.inference_mode()\n",
    "def sample_with(scheduler, num_inference_steps=50, eta=0.0, seed=0, batch_size=1):\n",
    "    \n",
    "    scheduler.set_timesteps(num_inference_steps, device=device)\n",
    "    g = torch.Generator(device=device).manual_seed(seed)\n",
    "    sample_size = model.config.sample_size\n",
    "    channels = model.config.in_channels\n",
    "    \n",
    "    x = torch.randn(batch_size, channels, sample_size, sample_size, generator=g, device=device)\n",
    "\n",
    "    for t in tqdm(scheduler.timesteps, desc=f\"DDPM-step:{num_inference_steps}\" if isinstance(scheduler, DDPMScheduler) else f\"DDIM-step:{num_inference_steps}-eta:{eta}\"):\n",
    "        # 某些调度器需要对输入做缩放（DDPM/DDIM 多数情况下为恒等，但兼容写法更稳妥）\n",
    "        model_input = scheduler.scale_model_input(x, t)\n",
    "        noise_pred = model(model_input, t).sample\n",
    "\n",
    "        if isinstance(scheduler, DDIMScheduler):\n",
    "            x = scheduler.step(noise_pred, t, x, eta=eta).prev_sample\n",
    "        else:\n",
    "            x = scheduler.step(noise_pred, t, x).prev_sample\n",
    "\n",
    "    return x\n",
    "\n",
    "# ====== 对比使用 ======\n",
    "# 1) DDPM 基线（例如 1000 步）\n",
    "imgs_ddpm_1000 = sample_with(ddpm, num_inference_steps=1000, seed=42)\n",
    "# savefig(imgs_ddpm_1000, \"DDPM-1000.png\")\n",
    "\n",
    "imgs_ddpm_100 = sample_with(ddpm, num_inference_steps=100, seed=42)\n",
    "# savefig(imgs_ddpm_100, \"DDPM-100.png\")\n",
    "\n",
    "# 2) DDIM（比如 50 或 100 步；eta=0 为确定性）\n",
    "imgs_ddim_50 = sample_with(ddim, num_inference_steps=50, eta=0.0, seed=42)\n",
    "# savefig(imgs_ddim_50, \"DDIM-50.png\")\n",
    "\n",
    "imgs_ddim_100 = sample_with(ddim, num_inference_steps=100, eta=0.0, seed=42)\n",
    "# savefig(imgs_ddim_100, \"DDIM-100.png\")\n",
    "\n",
    "# 如果想看带随机性的 DDIM，可以把 eta 调到 0.1~0.2 试试\n",
    "imgs_ddim_stochastic = sample_with(ddim, num_inference_steps=50, eta=1, seed=42)\n",
    "# savefig(imgs_ddim_stochastic, \"DDIM-stochastic.png\")\n"
   ]
  },
  {
   "cell_type": "code",
   "execution_count": null,
   "id": "b5d5dc87",
   "metadata": {},
   "outputs": [],
   "source": [
    "savefig(imgs_ddpm_1000, \"DDPM-1000.png\")\n",
    "savefig(imgs_ddpm_100, \"DDPM-100.png\")\n",
    "savefig(imgs_ddim_50, \"DDIM-50.png\")\n",
    "savefig(imgs_ddim_100, \"DDIM-100.png\")\n",
    "savefig(imgs_ddim_stochastic, \"DDIM-stochastic.png\")"
   ]
  }
 ],
 "metadata": {
  "kernelspec": {
   "display_name": "diffusion",
   "language": "python",
   "name": "python3"
  },
  "language_info": {
   "codemirror_mode": {
    "name": "ipython",
    "version": 3
   },
   "file_extension": ".py",
   "mimetype": "text/x-python",
   "name": "python",
   "nbconvert_exporter": "python",
   "pygments_lexer": "ipython3",
   "version": "3.10.18"
  }
 },
 "nbformat": 4,
 "nbformat_minor": 5
}
